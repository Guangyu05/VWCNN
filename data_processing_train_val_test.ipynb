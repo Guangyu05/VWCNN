{
 "cells": [
  {
   "cell_type": "code",
   "execution_count": 2,
   "id": "6bba8096",
   "metadata": {},
   "outputs": [],
   "source": [
    "import   pickle\n",
    "import collections\n",
    "import os\n",
    "import numpy as np\n",
    "import random "
   ]
  },
  {
   "cell_type": "code",
   "execution_count": null,
   "id": "f46ec2f0",
   "metadata": {},
   "outputs": [],
   "source": []
  },
  {
   "cell_type": "code",
   "execution_count": 3,
   "id": "432b4a0f",
   "metadata": {},
   "outputs": [
    {
     "name": "stdout",
     "output_type": "stream",
     "text": [
      "2009\n"
     ]
    }
   ],
   "source": [
    "infile = open('cv_split_5_fold_seizure_wise_v1.4.0.pkl','rb') #use the data prepared for cross validation\n",
    "new_dict = pickle.load(infile)\n",
    "infile.close()\n",
    "\n",
    "seed = 0\n",
    "random.seed(seed) # Reset the seed so all runs are the same.\n",
    "\n",
    "source  = 'processed_2/v1.4.0/fft/fft_seizures_wl1_ws_0.25_sf_250_fft_min_1_fft_max_24/' #load the data from this folder\n",
    "\n",
    "\n",
    "train_all = []    #read all pkl files from the folder\n",
    "for i in range(5):\n",
    "    train_all.append(new_dict[str(i+1)]['train']) \n",
    "\n",
    "train = list(set([item for sublist in train_all for item in sublist]))\n",
    "print(len(train))"
   ]
  },
  {
   "cell_type": "code",
   "execution_count": 4,
   "id": "964de384",
   "metadata": {},
   "outputs": [
    {
     "name": "stdout",
     "output_type": "stream",
     "text": [
      "2009\n"
     ]
    }
   ],
   "source": [
    "#check if the training and validation sets can cover the whole dataset\n",
    "val_all = []\n",
    "for i in range(5):\n",
    "    val_all.append(new_dict[str(i+1)]['val']) \n",
    "\n",
    "val = list(set([item for sublist in val_all for item in sublist]))\n",
    "print(len(val))"
   ]
  },
  {
   "cell_type": "code",
   "execution_count": 5,
   "id": "b2b7078f",
   "metadata": {},
   "outputs": [
    {
     "data": {
      "text/plain": [
       "True"
      ]
     },
     "execution_count": 5,
     "metadata": {},
     "output_type": "execute_result"
    }
   ],
   "source": [
    "#check if training and validation sets are the same\n",
    "train.sort() == val.sort()"
   ]
  },
  {
   "cell_type": "code",
   "execution_count": 6,
   "id": "66bffb5a",
   "metadata": {},
   "outputs": [],
   "source": [
    "#Calculate the samples in each category\n",
    "table = {'ABSZ':0,'CPSZ':0, 'FNSZ':0, 'GNSZ':0, 'SPSZ':0, 'TCSZ':0, 'TNSZ':0}\n",
    "for item in train:\n",
    "    table[item[:-4][-4:]] += 1"
   ]
  },
  {
   "cell_type": "code",
   "execution_count": 7,
   "id": "15fcef5d",
   "metadata": {},
   "outputs": [
    {
     "data": {
      "text/plain": [
       "{'ABSZ': 99,\n",
       " 'CPSZ': 342,\n",
       " 'FNSZ': 992,\n",
       " 'GNSZ': 415,\n",
       " 'SPSZ': 44,\n",
       " 'TCSZ': 50,\n",
       " 'TNSZ': 67}"
      ]
     },
     "execution_count": 7,
     "metadata": {},
     "output_type": "execute_result"
    }
   ],
   "source": [
    "table"
   ]
  },
  {
   "cell_type": "code",
   "execution_count": 8,
   "id": "bd77323f",
   "metadata": {},
   "outputs": [
    {
     "data": {
      "text/plain": [
       "67"
      ]
     },
     "execution_count": 8,
     "metadata": {},
     "output_type": "execute_result"
    }
   ],
   "source": [
    "#put the pkl files into the table below\n",
    "table_samples = {'ABSZ':[],'CPSZ':[], 'FNSZ':[], 'GNSZ':[], 'SPSZ':[], 'TCSZ':[], 'TNSZ':[]}\n",
    "for item in val:\n",
    "    table_samples[item[:-4][-4:]].append(item)\n",
    "len(table_samples['TNSZ'])"
   ]
  },
  {
   "cell_type": "code",
   "execution_count": 9,
   "id": "8173fffe",
   "metadata": {},
   "outputs": [
    {
     "data": {
      "text/plain": [
       "{'3'}"
      ]
     },
     "execution_count": 9,
     "metadata": {},
     "output_type": "execute_result"
    }
   ],
   "source": [
    "a, b = ['1', '2', '3'], ['1', '2']\n",
    "set(a) - set(b)"
   ]
  },
  {
   "cell_type": "code",
   "execution_count": 10,
   "id": "98d07ea2",
   "metadata": {
    "collapsed": true
   },
   "outputs": [
    {
     "name": "stdout",
     "output_type": "stream",
     "text": [
      "399\n"
     ]
    },
    {
     "data": {
      "text/plain": [
       "['szr_1962_pid_00008608_type_ABSZ.pkl',\n",
       " 'szr_2010_pid_00002657_type_ABSZ.pkl',\n",
       " 'szr_1966_pid_00001113_type_ABSZ.pkl',\n",
       " 'szr_1918_pid_00000675_type_ABSZ.pkl',\n",
       " 'szr_1946_pid_00001984_type_ABSZ.pkl',\n",
       " 'szr_1978_pid_00001413_type_ABSZ.pkl',\n",
       " 'szr_1975_pid_00001113_type_ABSZ.pkl',\n",
       " 'szr_1964_pid_00001113_type_ABSZ.pkl',\n",
       " 'szr_1951_pid_00003306_type_ABSZ.pkl',\n",
       " 'szr_1974_pid_00001113_type_ABSZ.pkl',\n",
       " 'szr_1958_pid_00003635_type_ABSZ.pkl',\n",
       " 'szr_1987_pid_00001413_type_ABSZ.pkl',\n",
       " 'szr_1940_pid_00001984_type_ABSZ.pkl',\n",
       " 'szr_1977_pid_00001113_type_ABSZ.pkl',\n",
       " 'szr_1930_pid_00000675_type_ABSZ.pkl',\n",
       " 'szr_1949_pid_00003281_type_ABSZ.pkl',\n",
       " 'szr_2009_pid_00002657_type_ABSZ.pkl',\n",
       " 'szr_1925_pid_00000675_type_ABSZ.pkl',\n",
       " 'szr_1992_pid_00002448_type_ABSZ.pkl',\n",
       " 'szr_1170_pid_00006904_type_CPSZ.pkl',\n",
       " 'szr_1314_pid_00005633_type_CPSZ.pkl',\n",
       " 'szr_1350_pid_00006514_type_CPSZ.pkl',\n",
       " 'szr_1117_pid_00002297_type_CPSZ.pkl',\n",
       " 'szr_1200_pid_00004892_type_CPSZ.pkl',\n",
       " 'szr_1092_pid_00008544_type_CPSZ.pkl',\n",
       " 'szr_1079_pid_00008544_type_CPSZ.pkl',\n",
       " 'szr_1211_pid_00004892_type_CPSZ.pkl',\n",
       " 'szr_1283_pid_00000883_type_CPSZ.pkl',\n",
       " 'szr_1328_pid_00006000_type_CPSZ.pkl',\n",
       " 'szr_1093_pid_00008544_type_CPSZ.pkl',\n",
       " 'szr_1223_pid_00005452_type_CPSZ.pkl',\n",
       " 'szr_1264_pid_00000883_type_CPSZ.pkl',\n",
       " 'szr_1203_pid_00004892_type_CPSZ.pkl',\n",
       " 'szr_1354_pid_00006514_type_CPSZ.pkl',\n",
       " 'szr_1369_pid_00007128_type_CPSZ.pkl',\n",
       " 'szr_1146_pid_00002806_type_CPSZ.pkl',\n",
       " 'szr_1324_pid_00005633_type_CPSZ.pkl',\n",
       " 'szr_1286_pid_00000883_type_CPSZ.pkl',\n",
       " 'szr_1268_pid_00000883_type_CPSZ.pkl',\n",
       " 'szr_1308_pid_00000883_type_CPSZ.pkl',\n",
       " 'szr_1175_pid_00006904_type_CPSZ.pkl',\n",
       " 'szr_1073_pid_00008544_type_CPSZ.pkl',\n",
       " 'szr_1322_pid_00005633_type_CPSZ.pkl',\n",
       " 'szr_1049_pid_00005479_type_CPSZ.pkl',\n",
       " 'szr_1089_pid_00008544_type_CPSZ.pkl',\n",
       " 'szr_1246_pid_00006413_type_CPSZ.pkl',\n",
       " 'szr_1362_pid_00007032_type_CPSZ.pkl',\n",
       " 'szr_1042_pid_00001027_type_CPSZ.pkl',\n",
       " 'szr_1355_pid_00006514_type_CPSZ.pkl',\n",
       " 'szr_1294_pid_00000883_type_CPSZ.pkl',\n",
       " 'szr_1212_pid_00004892_type_CPSZ.pkl',\n",
       " 'szr_1166_pid_00006904_type_CPSZ.pkl',\n",
       " 'szr_1208_pid_00004892_type_CPSZ.pkl',\n",
       " 'szr_1074_pid_00008544_type_CPSZ.pkl',\n",
       " 'szr_1139_pid_00002806_type_CPSZ.pkl',\n",
       " 'szr_1332_pid_00006083_type_CPSZ.pkl',\n",
       " 'szr_1155_pid_00006904_type_CPSZ.pkl',\n",
       " 'szr_1164_pid_00006904_type_CPSZ.pkl',\n",
       " 'szr_1114_pid_00002297_type_CPSZ.pkl',\n",
       " 'szr_1320_pid_00005633_type_CPSZ.pkl',\n",
       " 'szr_1271_pid_00000883_type_CPSZ.pkl',\n",
       " 'szr_1088_pid_00008544_type_CPSZ.pkl',\n",
       " 'szr_1083_pid_00008544_type_CPSZ.pkl',\n",
       " 'szr_1205_pid_00004892_type_CPSZ.pkl',\n",
       " 'szr_1302_pid_00000883_type_CPSZ.pkl',\n",
       " 'szr_1292_pid_00000883_type_CPSZ.pkl',\n",
       " 'szr_1097_pid_00008544_type_CPSZ.pkl',\n",
       " 'szr_1196_pid_00003977_type_CPSZ.pkl',\n",
       " 'szr_1191_pid_00003977_type_CPSZ.pkl',\n",
       " 'szr_1105_pid_00002297_type_CPSZ.pkl',\n",
       " 'szr_1318_pid_00005633_type_CPSZ.pkl',\n",
       " 'szr_1342_pid_00006514_type_CPSZ.pkl',\n",
       " 'szr_1189_pid_00000021_type_CPSZ.pkl',\n",
       " 'szr_1269_pid_00000883_type_CPSZ.pkl',\n",
       " 'szr_1347_pid_00006514_type_CPSZ.pkl',\n",
       " 'szr_1239_pid_00006083_type_CPSZ.pkl',\n",
       " 'szr_1204_pid_00004892_type_CPSZ.pkl',\n",
       " 'szr_1336_pid_00006413_type_CPSZ.pkl',\n",
       " 'szr_1165_pid_00006904_type_CPSZ.pkl',\n",
       " 'szr_1190_pid_00000609_type_CPSZ.pkl',\n",
       " 'szr_1136_pid_00002806_type_CPSZ.pkl',\n",
       " 'szr_1138_pid_00002806_type_CPSZ.pkl',\n",
       " 'szr_1137_pid_00002806_type_CPSZ.pkl',\n",
       " 'szr_1058_pid_00008460_type_CPSZ.pkl',\n",
       " 'szr_1378_pid_00007128_type_CPSZ.pkl',\n",
       " 'szr_1285_pid_00000883_type_CPSZ.pkl',\n",
       " 'szr_1077_pid_00008544_type_CPSZ.pkl',\n",
       " 'szr_149_pid_00009578_type_FNSZ.pkl',\n",
       " 'szr_730_pid_00006507_type_FNSZ.pkl',\n",
       " 'szr_803_pid_00007234_type_FNSZ.pkl',\n",
       " 'szr_191_pid_00009839_type_FNSZ.pkl',\n",
       " 'szr_914_pid_00005371_type_FNSZ.pkl',\n",
       " 'szr_211_pid_00009842_type_FNSZ.pkl',\n",
       " 'szr_958_pid_00005672_type_FNSZ.pkl',\n",
       " 'szr_1036_pid_00007793_type_FNSZ.pkl',\n",
       " 'szr_882_pid_00005371_type_FNSZ.pkl',\n",
       " 'szr_140_pid_00009578_type_FNSZ.pkl',\n",
       " 'szr_934_pid_00005371_type_FNSZ.pkl',\n",
       " 'szr_74_pid_00006546_type_FNSZ.pkl',\n",
       " 'szr_994_pid_00007196_type_FNSZ.pkl',\n",
       " 'szr_870_pid_00005371_type_FNSZ.pkl',\n",
       " 'szr_601_pid_00010591_type_FNSZ.pkl',\n",
       " 'szr_734_pid_00006514_type_FNSZ.pkl',\n",
       " 'szr_458_pid_00008476_type_FNSZ.pkl',\n",
       " 'szr_878_pid_00005371_type_FNSZ.pkl',\n",
       " 'szr_755_pid_00006514_type_FNSZ.pkl',\n",
       " 'szr_587_pid_00010591_type_FNSZ.pkl',\n",
       " 'szr_340_pid_00005479_type_FNSZ.pkl',\n",
       " 'szr_584_pid_00010591_type_FNSZ.pkl',\n",
       " 'szr_854_pid_00004569_type_FNSZ.pkl',\n",
       " 'szr_299_pid_00010106_type_FNSZ.pkl',\n",
       " 'szr_889_pid_00005371_type_FNSZ.pkl',\n",
       " 'szr_278_pid_00010022_type_FNSZ.pkl',\n",
       " 'szr_931_pid_00005371_type_FNSZ.pkl',\n",
       " 'szr_999_pid_00007234_type_FNSZ.pkl',\n",
       " 'szr_647_pid_00000473_type_FNSZ.pkl',\n",
       " 'szr_867_pid_00004569_type_FNSZ.pkl',\n",
       " 'szr_487_pid_00009852_type_FNSZ.pkl',\n",
       " 'szr_638_pid_00000473_type_FNSZ.pkl',\n",
       " 'szr_339_pid_00005479_type_FNSZ.pkl',\n",
       " 'szr_518_pid_00010418_type_FNSZ.pkl',\n",
       " 'szr_557_pid_00010489_type_FNSZ.pkl',\n",
       " 'szr_713_pid_00004473_type_FNSZ.pkl',\n",
       " 'szr_695_pid_00003760_type_FNSZ.pkl',\n",
       " 'szr_750_pid_00006514_type_FNSZ.pkl',\n",
       " 'szr_951_pid_00005426_type_FNSZ.pkl',\n",
       " 'szr_837_pid_00002991_type_FNSZ.pkl',\n",
       " 'szr_423_pid_00007235_type_FNSZ.pkl',\n",
       " 'szr_142_pid_00009578_type_FNSZ.pkl',\n",
       " 'szr_390_pid_00006440_type_FNSZ.pkl',\n",
       " 'szr_669_pid_00002806_type_FNSZ.pkl',\n",
       " 'szr_176_pid_00009839_type_FNSZ.pkl',\n",
       " 'szr_551_pid_00010489_type_FNSZ.pkl',\n",
       " 'szr_645_pid_00000473_type_FNSZ.pkl',\n",
       " 'szr_685_pid_00002806_type_FNSZ.pkl',\n",
       " 'szr_401_pid_00006563_type_FNSZ.pkl',\n",
       " 'szr_885_pid_00005371_type_FNSZ.pkl',\n",
       " 'szr_252_pid_00009866_type_FNSZ.pkl',\n",
       " 'szr_306_pid_00000258_type_FNSZ.pkl',\n",
       " 'szr_1015_pid_00007584_type_FNSZ.pkl',\n",
       " 'szr_77_pid_00006546_type_FNSZ.pkl',\n",
       " 'szr_335_pid_00005479_type_FNSZ.pkl',\n",
       " 'szr_177_pid_00009839_type_FNSZ.pkl',\n",
       " 'szr_983_pid_00007032_type_FNSZ.pkl',\n",
       " 'szr_283_pid_00010022_type_FNSZ.pkl',\n",
       " 'szr_438_pid_00008295_type_FNSZ.pkl',\n",
       " 'szr_838_pid_00002991_type_FNSZ.pkl',\n",
       " 'szr_232_pid_00009842_type_FNSZ.pkl',\n",
       " 'szr_398_pid_00006563_type_FNSZ.pkl',\n",
       " 'szr_494_pid_00009885_type_FNSZ.pkl',\n",
       " 'szr_858_pid_00004569_type_FNSZ.pkl',\n",
       " 'szr_121_pid_00009570_type_FNSZ.pkl',\n",
       " 'szr_161_pid_00009697_type_FNSZ.pkl',\n",
       " 'szr_827_pid_00002991_type_FNSZ.pkl',\n",
       " 'szr_207_pid_00009842_type_FNSZ.pkl',\n",
       " 'szr_894_pid_00005371_type_FNSZ.pkl',\n",
       " 'szr_748_pid_00006514_type_FNSZ.pkl',\n",
       " 'szr_282_pid_00010022_type_FNSZ.pkl',\n",
       " 'szr_104_pid_00008512_type_FNSZ.pkl',\n",
       " 'szr_859_pid_00004569_type_FNSZ.pkl',\n",
       " 'szr_632_pid_00000281_type_FNSZ.pkl',\n",
       " 'szr_689_pid_00003208_type_FNSZ.pkl',\n",
       " 'szr_596_pid_00010591_type_FNSZ.pkl',\n",
       " 'szr_659_pid_00001324_type_FNSZ.pkl',\n",
       " 'szr_731_pid_00006514_type_FNSZ.pkl',\n",
       " 'szr_133_pid_00009578_type_FNSZ.pkl',\n",
       " 'szr_1025_pid_00007584_type_FNSZ.pkl',\n",
       " 'szr_185_pid_00009839_type_FNSZ.pkl',\n",
       " 'szr_68_pid_00006546_type_FNSZ.pkl',\n",
       " 'szr_251_pid_00009866_type_FNSZ.pkl',\n",
       " 'szr_662_pid_00001543_type_FNSZ.pkl',\n",
       " 'szr_871_pid_00005371_type_FNSZ.pkl',\n",
       " 'szr_634_pid_00000473_type_FNSZ.pkl',\n",
       " 'szr_180_pid_00009839_type_FNSZ.pkl',\n",
       " 'szr_985_pid_00007032_type_FNSZ.pkl',\n",
       " 'szr_151_pid_00009578_type_FNSZ.pkl',\n",
       " 'szr_437_pid_00008295_type_FNSZ.pkl',\n",
       " 'szr_874_pid_00005371_type_FNSZ.pkl',\n",
       " 'szr_95_pid_00008174_type_FNSZ.pkl',\n",
       " 'szr_1034_pid_00007793_type_FNSZ.pkl',\n",
       " 'szr_924_pid_00005371_type_FNSZ.pkl',\n",
       " 'szr_1020_pid_00007584_type_FNSZ.pkl',\n",
       " 'szr_257_pid_00009866_type_FNSZ.pkl',\n",
       " 'szr_247_pid_00009866_type_FNSZ.pkl',\n",
       " 'szr_767_pid_00006514_type_FNSZ.pkl',\n",
       " 'szr_184_pid_00009839_type_FNSZ.pkl',\n",
       " 'szr_544_pid_00010489_type_FNSZ.pkl',\n",
       " 'szr_273_pid_00009866_type_FNSZ.pkl',\n",
       " 'szr_775_pid_00006514_type_FNSZ.pkl',\n",
       " 'szr_843_pid_00002991_type_FNSZ.pkl',\n",
       " 'szr_120_pid_00009570_type_FNSZ.pkl',\n",
       " 'szr_975_pid_00007032_type_FNSZ.pkl',\n",
       " 'szr_1021_pid_00007584_type_FNSZ.pkl',\n",
       " 'szr_605_pid_00010591_type_FNSZ.pkl',\n",
       " 'szr_493_pid_00009885_type_FNSZ.pkl',\n",
       " 'szr_676_pid_00002806_type_FNSZ.pkl',\n",
       " 'szr_940_pid_00005371_type_FNSZ.pkl',\n",
       " 'szr_876_pid_00005371_type_FNSZ.pkl',\n",
       " 'szr_324_pid_00005943_type_FNSZ.pkl',\n",
       " 'szr_129_pid_00009578_type_FNSZ.pkl',\n",
       " 'szr_284_pid_00010022_type_FNSZ.pkl',\n",
       " 'szr_131_pid_00009578_type_FNSZ.pkl',\n",
       " 'szr_700_pid_00004434_type_FNSZ.pkl',\n",
       " 'szr_366_pid_00006175_type_FNSZ.pkl',\n",
       " 'szr_416_pid_00007032_type_FNSZ.pkl',\n",
       " 'szr_504_pid_00009934_type_FNSZ.pkl',\n",
       " 'szr_242_pid_00009866_type_FNSZ.pkl',\n",
       " 'szr_906_pid_00005371_type_FNSZ.pkl',\n",
       " 'szr_567_pid_00010587_type_FNSZ.pkl',\n",
       " 'szr_533_pid_00010489_type_FNSZ.pkl',\n",
       " 'szr_1037_pid_00007793_type_FNSZ.pkl',\n",
       " 'szr_653_pid_00000529_type_FNSZ.pkl',\n",
       " 'szr_900_pid_00005371_type_FNSZ.pkl',\n",
       " 'szr_98_pid_00008460_type_FNSZ.pkl',\n",
       " 'szr_920_pid_00005371_type_FNSZ.pkl',\n",
       " 'szr_262_pid_00009866_type_FNSZ.pkl',\n",
       " 'szr_899_pid_00005371_type_FNSZ.pkl',\n",
       " 'szr_425_pid_00007235_type_FNSZ.pkl',\n",
       " 'szr_965_pid_00006251_type_FNSZ.pkl',\n",
       " 'szr_536_pid_00010489_type_FNSZ.pkl',\n",
       " 'szr_879_pid_00005371_type_FNSZ.pkl',\n",
       " 'szr_629_pid_00010591_type_FNSZ.pkl',\n",
       " 'szr_231_pid_00009842_type_FNSZ.pkl',\n",
       " 'szr_937_pid_00005371_type_FNSZ.pkl',\n",
       " 'szr_724_pid_00006507_type_FNSZ.pkl',\n",
       " 'szr_266_pid_00009866_type_FNSZ.pkl',\n",
       " 'szr_812_pid_00007623_type_FNSZ.pkl',\n",
       " 'szr_117_pid_00008889_type_FNSZ.pkl',\n",
       " 'szr_832_pid_00002991_type_FNSZ.pkl',\n",
       " 'szr_728_pid_00006507_type_FNSZ.pkl',\n",
       " 'szr_220_pid_00009842_type_FNSZ.pkl',\n",
       " 'szr_223_pid_00009842_type_FNSZ.pkl',\n",
       " 'szr_408_pid_00007032_type_FNSZ.pkl',\n",
       " 'szr_591_pid_00010591_type_FNSZ.pkl',\n",
       " 'szr_314_pid_00001981_type_FNSZ.pkl',\n",
       " 'szr_178_pid_00009839_type_FNSZ.pkl',\n",
       " 'szr_654_pid_00000529_type_FNSZ.pkl',\n",
       " 'szr_50_pid_00000258_type_FNSZ.pkl',\n",
       " 'szr_718_pid_00005101_type_FNSZ.pkl',\n",
       " 'szr_237_pid_00009866_type_FNSZ.pkl',\n",
       " 'szr_1012_pid_00007584_type_FNSZ.pkl',\n",
       " 'szr_537_pid_00010489_type_FNSZ.pkl',\n",
       " 'szr_732_pid_00006514_type_FNSZ.pkl',\n",
       " 'szr_477_pid_00009107_type_FNSZ.pkl',\n",
       " 'szr_628_pid_00010591_type_FNSZ.pkl',\n",
       " 'szr_571_pid_00010587_type_FNSZ.pkl',\n",
       " 'szr_376_pid_00006440_type_FNSZ.pkl',\n",
       " 'szr_702_pid_00004434_type_FNSZ.pkl',\n",
       " 'szr_963_pid_00006230_type_FNSZ.pkl',\n",
       " 'szr_455_pid_00008476_type_FNSZ.pkl',\n",
       " 'szr_710_pid_00004473_type_FNSZ.pkl',\n",
       " 'szr_866_pid_00004569_type_FNSZ.pkl',\n",
       " 'szr_215_pid_00009842_type_FNSZ.pkl',\n",
       " 'szr_620_pid_00010591_type_FNSZ.pkl',\n",
       " 'szr_741_pid_00006514_type_FNSZ.pkl',\n",
       " 'szr_1011_pid_00007234_type_FNSZ.pkl',\n",
       " 'szr_524_pid_00010427_type_FNSZ.pkl',\n",
       " 'szr_789_pid_00007234_type_FNSZ.pkl',\n",
       " 'szr_138_pid_00009578_type_FNSZ.pkl',\n",
       " 'szr_956_pid_00005672_type_FNSZ.pkl',\n",
       " 'szr_786_pid_00007234_type_FNSZ.pkl',\n",
       " 'szr_935_pid_00005371_type_FNSZ.pkl',\n",
       " 'szr_903_pid_00005371_type_FNSZ.pkl',\n",
       " 'szr_345_pid_00006546_type_FNSZ.pkl',\n",
       " 'szr_196_pid_00009839_type_FNSZ.pkl',\n",
       " 'szr_303_pid_00000258_type_FNSZ.pkl',\n",
       " 'szr_808_pid_00007234_type_FNSZ.pkl',\n",
       " 'szr_547_pid_00010489_type_FNSZ.pkl',\n",
       " 'szr_418_pid_00007032_type_FNSZ.pkl',\n",
       " 'szr_666_pid_00001843_type_FNSZ.pkl',\n",
       " 'szr_352_pid_00002868_type_FNSZ.pkl',\n",
       " 'szr_725_pid_00006507_type_FNSZ.pkl',\n",
       " 'szr_881_pid_00005371_type_FNSZ.pkl',\n",
       " 'szr_648_pid_00000473_type_FNSZ.pkl',\n",
       " 'szr_688_pid_00003208_type_FNSZ.pkl',\n",
       " 'szr_901_pid_00005371_type_FNSZ.pkl',\n",
       " 'szr_193_pid_00009839_type_FNSZ.pkl',\n",
       " 'szr_764_pid_00006514_type_FNSZ.pkl',\n",
       " 'szr_375_pid_00006440_type_FNSZ.pkl',\n",
       " 'szr_852_pid_00004569_type_FNSZ.pkl',\n",
       " 'szr_795_pid_00007234_type_FNSZ.pkl',\n",
       " 'szr_482_pid_00009630_type_FNSZ.pkl',\n",
       " 'szr_704_pid_00004434_type_FNSZ.pkl',\n",
       " 'szr_991_pid_00007032_type_FNSZ.pkl',\n",
       " 'szr_1001_pid_00007234_type_FNSZ.pkl',\n",
       " 'szr_1688_pid_00010020_type_GNSZ.pkl',\n",
       " 'szr_1482_pid_00008479_type_GNSZ.pkl',\n",
       " 'szr_1741_pid_00006514_type_GNSZ.pkl',\n",
       " 'szr_1555_pid_00010639_type_GNSZ.pkl',\n",
       " 'szr_1465_pid_00008479_type_GNSZ.pkl',\n",
       " 'szr_1506_pid_00009839_type_GNSZ.pkl',\n",
       " 'szr_1498_pid_00008512_type_GNSZ.pkl',\n",
       " 'szr_1710_pid_00000492_type_GNSZ.pkl',\n",
       " 'szr_1613_pid_00008303_type_GNSZ.pkl',\n",
       " 'szr_1577_pid_00002868_type_GNSZ.pkl',\n",
       " 'szr_1747_pid_00006514_type_GNSZ.pkl',\n",
       " 'szr_1728_pid_00005034_type_GNSZ.pkl',\n",
       " 'szr_1674_pid_00010020_type_GNSZ.pkl',\n",
       " 'szr_1596_pid_00006563_type_GNSZ.pkl',\n",
       " 'szr_1400_pid_00004671_type_GNSZ.pkl',\n",
       " 'szr_1589_pid_00006563_type_GNSZ.pkl',\n",
       " 'szr_1743_pid_00006514_type_GNSZ.pkl',\n",
       " 'szr_1598_pid_00006563_type_GNSZ.pkl',\n",
       " 'szr_1779_pid_00006107_type_GNSZ.pkl',\n",
       " 'szr_1723_pid_00001587_type_GNSZ.pkl',\n",
       " 'szr_1407_pid_00004671_type_GNSZ.pkl',\n",
       " 'szr_1468_pid_00008479_type_GNSZ.pkl',\n",
       " 'szr_1612_pid_00008303_type_GNSZ.pkl',\n",
       " 'szr_1416_pid_00004671_type_GNSZ.pkl',\n",
       " 'szr_1516_pid_00010062_type_GNSZ.pkl',\n",
       " 'szr_1464_pid_00008479_type_GNSZ.pkl',\n",
       " 'szr_1654_pid_00010020_type_GNSZ.pkl',\n",
       " 'szr_1633_pid_00010020_type_GNSZ.pkl',\n",
       " 'szr_1671_pid_00010020_type_GNSZ.pkl',\n",
       " 'szr_1693_pid_00010020_type_GNSZ.pkl',\n",
       " 'szr_1770_pid_00007952_type_GNSZ.pkl',\n",
       " 'szr_1384_pid_00004671_type_GNSZ.pkl',\n",
       " 'szr_1403_pid_00004671_type_GNSZ.pkl',\n",
       " 'szr_1637_pid_00010020_type_GNSZ.pkl',\n",
       " 'szr_1550_pid_00010639_type_GNSZ.pkl',\n",
       " 'szr_1543_pid_00010639_type_GNSZ.pkl',\n",
       " 'szr_1623_pid_00009623_type_GNSZ.pkl',\n",
       " 'szr_1409_pid_00004671_type_GNSZ.pkl',\n",
       " 'szr_1798_pid_00009162_type_GNSZ.pkl',\n",
       " 'szr_1480_pid_00008479_type_GNSZ.pkl',\n",
       " 'szr_1664_pid_00010020_type_GNSZ.pkl',\n",
       " 'szr_1708_pid_00000302_type_GNSZ.pkl',\n",
       " 'szr_1426_pid_00006546_type_GNSZ.pkl',\n",
       " 'szr_1755_pid_00006514_type_GNSZ.pkl',\n",
       " 'szr_1450_pid_00008174_type_GNSZ.pkl',\n",
       " 'szr_1391_pid_00004671_type_GNSZ.pkl',\n",
       " 'szr_1731_pid_00006514_type_GNSZ.pkl',\n",
       " 'szr_1597_pid_00006563_type_GNSZ.pkl',\n",
       " 'szr_1545_pid_00010639_type_GNSZ.pkl',\n",
       " 'szr_1385_pid_00004671_type_GNSZ.pkl',\n",
       " 'szr_1493_pid_00008512_type_GNSZ.pkl',\n",
       " 'szr_1751_pid_00006514_type_GNSZ.pkl',\n",
       " 'szr_1729_pid_00006514_type_GNSZ.pkl',\n",
       " 'szr_1697_pid_00010158_type_GNSZ.pkl',\n",
       " 'szr_1434_pid_00006546_type_GNSZ.pkl',\n",
       " 'szr_1481_pid_00008479_type_GNSZ.pkl',\n",
       " 'szr_1444_pid_00006546_type_GNSZ.pkl',\n",
       " 'szr_1695_pid_00010020_type_GNSZ.pkl',\n",
       " 'szr_1716_pid_00001006_type_GNSZ.pkl',\n",
       " 'szr_1485_pid_00008512_type_GNSZ.pkl',\n",
       " 'szr_1538_pid_00010639_type_GNSZ.pkl',\n",
       " 'szr_1527_pid_00010062_type_GNSZ.pkl',\n",
       " 'szr_1736_pid_00006514_type_GNSZ.pkl',\n",
       " 'szr_1477_pid_00008479_type_GNSZ.pkl',\n",
       " 'szr_1435_pid_00006546_type_GNSZ.pkl',\n",
       " 'szr_1627_pid_00010020_type_GNSZ.pkl',\n",
       " 'szr_1587_pid_00006440_type_GNSZ.pkl',\n",
       " 'szr_1705_pid_00000302_type_GNSZ.pkl',\n",
       " 'szr_1425_pid_00006546_type_GNSZ.pkl',\n",
       " 'szr_1395_pid_00004671_type_GNSZ.pkl',\n",
       " 'szr_1524_pid_00010062_type_GNSZ.pkl',\n",
       " 'szr_1615_pid_00008303_type_GNSZ.pkl',\n",
       " 'szr_1793_pid_00007032_type_GNSZ.pkl',\n",
       " 'szr_1789_pid_00006230_type_GNSZ.pkl',\n",
       " 'szr_1443_pid_00006546_type_GNSZ.pkl',\n",
       " 'szr_1515_pid_00010062_type_GNSZ.pkl',\n",
       " 'szr_1452_pid_00008453_type_GNSZ.pkl',\n",
       " 'szr_1718_pid_00001006_type_GNSZ.pkl',\n",
       " 'szr_1650_pid_00010020_type_GNSZ.pkl',\n",
       " 'szr_1717_pid_00001006_type_GNSZ.pkl',\n",
       " 'szr_1714_pid_00000492_type_GNSZ.pkl',\n",
       " 'szr_1561_pid_00000492_type_GNSZ.pkl',\n",
       " 'szr_1442_pid_00006546_type_GNSZ.pkl',\n",
       " 'szr_1808_pid_00008616_type_SPSZ.pkl',\n",
       " 'szr_1816_pid_00008616_type_SPSZ.pkl',\n",
       " 'szr_1800_pid_00006546_type_SPSZ.pkl',\n",
       " 'szr_1801_pid_00006546_type_SPSZ.pkl',\n",
       " 'szr_1839_pid_00008616_type_SPSZ.pkl',\n",
       " 'szr_1812_pid_00008616_type_SPSZ.pkl',\n",
       " 'szr_1815_pid_00008616_type_SPSZ.pkl',\n",
       " 'szr_1834_pid_00008616_type_SPSZ.pkl',\n",
       " 'szr_28_pid_00010158_type_TCSZ.pkl',\n",
       " 'szr_30_pid_00010158_type_TCSZ.pkl',\n",
       " 'szr_42_pid_00005804_type_TCSZ.pkl',\n",
       " 'szr_11_pid_00008889_type_TCSZ.pkl',\n",
       " 'szr_4_pid_00000258_type_TCSZ.pkl',\n",
       " 'szr_44_pid_00005804_type_TCSZ.pkl',\n",
       " 'szr_47_pid_00005804_type_TCSZ.pkl',\n",
       " 'szr_38_pid_00005804_type_TCSZ.pkl',\n",
       " 'szr_49_pid_00006520_type_TCSZ.pkl',\n",
       " 'szr_36_pid_00005804_type_TCSZ.pkl',\n",
       " 'szr_1901_pid_00008444_type_TNSZ.pkl',\n",
       " 'szr_1893_pid_00008889_type_TNSZ.pkl',\n",
       " 'szr_1868_pid_00008889_type_TNSZ.pkl',\n",
       " 'szr_1872_pid_00008889_type_TNSZ.pkl',\n",
       " 'szr_1870_pid_00008889_type_TNSZ.pkl',\n",
       " 'szr_1883_pid_00008889_type_TNSZ.pkl',\n",
       " 'szr_1864_pid_00008889_type_TNSZ.pkl',\n",
       " 'szr_1846_pid_00008889_type_TNSZ.pkl',\n",
       " 'szr_1854_pid_00008889_type_TNSZ.pkl',\n",
       " 'szr_1855_pid_00008889_type_TNSZ.pkl',\n",
       " 'szr_1863_pid_00008889_type_TNSZ.pkl',\n",
       " 'szr_1867_pid_00008889_type_TNSZ.pkl',\n",
       " 'szr_1912_pid_00008444_type_TNSZ.pkl']"
      ]
     },
     "execution_count": 10,
     "metadata": {},
     "output_type": "execute_result"
    }
   ],
   "source": [
    "#Use 20% samples in each category and combine them as the test set.\n",
    "test_samples = []\n",
    "\n",
    "for seizure_type in table_samples:\n",
    "    all_sample = table_samples[seizure_type]\n",
    "    test_sample = random.sample(all_sample, int(0.2*len(all_sample)))\n",
    "    test_samples.append(test_sample)\n",
    "    \n",
    "test_all = [item for sublist in test_samples for item in sublist] \n",
    "print(len(test_all))\n",
    "test_all"
   ]
  },
  {
   "cell_type": "code",
   "execution_count": 11,
   "id": "06a79e4c",
   "metadata": {},
   "outputs": [
    {
     "data": {
      "text/plain": [
       "{'ABSZ': 19,\n",
       " 'CPSZ': 68,\n",
       " 'FNSZ': 198,\n",
       " 'GNSZ': 83,\n",
       " 'SPSZ': 8,\n",
       " 'TCSZ': 10,\n",
       " 'TNSZ': 13}"
      ]
     },
     "execution_count": 11,
     "metadata": {},
     "output_type": "execute_result"
    }
   ],
   "source": [
    "table = {'ABSZ':0,'CPSZ':0, 'FNSZ':0, 'GNSZ':0, 'SPSZ':0, 'TCSZ':0, 'TNSZ':0}\n",
    "for item in test_all:\n",
    "    table[item[:-4][-4:]] += 1\n",
    "    \n",
    "table"
   ]
  },
  {
   "cell_type": "code",
   "execution_count": 40,
   "id": "a83bf5c9",
   "metadata": {},
   "outputs": [
    {
     "name": "stdout",
     "output_type": "stream",
     "text": [
      "1279 331 399\n",
      "1294 316 399\n",
      "1293 317 399\n",
      "1275 335 399\n",
      "1299 311 399\n"
     ]
    }
   ],
   "source": [
    "for i in range(5):\n",
    "    train = new_dict[str(i+1)]['train']   #read the train data for the 5-fold cross validation\n",
    "    train = list(set(train) - set(test_all)) #\n",
    "\n",
    "    \n",
    "    val =  new_dict[str(i+1)]['val']      #read the validation data for the 5-fold cross validation\n",
    "    val = list(set(val) - set(test_all))\n",
    "    print(len(train), len(val), len(test_all))\n",
    "    \n",
    "    train_data, val_data = [],[]   #these two variables are used to store EEG signals from the pkl files\n",
    "    train_label_before,train_label_after,val_label_before,val_label_after = [],[],[],[] #label_before variables are original labels in the pkl files,in label_after, the first axis is expended according to the first axis of train_data \n",
    "    train_id_before,train_id_after,val_id_before,val_id_after = [],[],[],[] #id_before variables are original patient ids,in id_after files, the first axis is expended according to the first axis of train_data \n",
    "    samples_train, samples_val = 0,0\n",
    "    filename_train, filename_val = [], []\n",
    "    \n",
    "    for j in range(len(train)): #read train data, train label and patient id from the pkl files.\n",
    "        filename_train.append(train[j])\n",
    "        path_train = source + train[j]  #location of the pkl files\n",
    "        sz = pickle.load(open(path_train, 'rb'))  #load the file\n",
    "        samples_train  +=  np.shape(sz.data)[0] #the number of EEG clips in each pkl files\n",
    "        #train_id_all.append(sz.patient_id)\n",
    "        train_id_before.append(sz.patient_id)   #original patient id\n",
    "        train_id_after.append([sz.patient_id]*np.shape(sz.data)[0])   #expended patient id according to the number of EEG clips in each pkl file\n",
    "        train_label_before.append(sz.seizure_type)   #original label\n",
    "        train_label_after.append([sz.seizure_type]*np.shape(sz.data)[0]) #expended training lables according to the number of EEG clips in each pkl file\n",
    "        train_data.append(sz.data)\n",
    "        \n",
    "    for j in range(len(val)):  #read validation data, validation label and patient id from the pkl files.\n",
    "        filename_val.append(val[j])\n",
    "        path_val = source + val[j]\n",
    "        sz = pickle.load(open(path_val, 'rb'))\n",
    "        samples_val  +=  np.shape(sz.data)[0]\n",
    "        val_id_before.append(sz.patient_id)\n",
    "        val_id_after.append([sz.patient_id]*np.shape(sz.data)[0])\n",
    "        val_label_before.append(sz.seizure_type)\n",
    "        val_label_after.append([sz.seizure_type]*np.shape(sz.data)[0])\n",
    "        val_data.append(sz.data)\n",
    "        \n",
    "    flat_train_id_after = [item for sublist in train_id_after for item in sublist]   #concatenate the expended patient id\n",
    "    flat_train_label_after = [item for sublist in train_label_after for item in sublist] #concatenate the expended train label\n",
    "    flat_train_data = [item for sublist in train_data for item in sublist]  #concatenate the training data\n",
    "    train_data = np.reshape(flat_train_data,[samples_train,1,20,24])   #reshape the training data to the format which can be trained by DL algorithm\n",
    "    \n",
    "    flat_val_id_after = [item for sublist in val_id_after for item in sublist]\n",
    "    flat_val_label_after = [item for sublist in val_label_after for item in sublist]\n",
    "    flat_val_data = [item for sublist in val_data for item in sublist]\n",
    "    val_data = np.reshape(flat_val_data,[samples_val,1,20,24])\n",
    "    \n",
    "    np.save('data_new_train_val_test/train_data_cross_'+str(i+1), train_data)\n",
    "    np.save('data_new_train_val_test/train_label_before_cross_'+str(i+1), train_label_before)\n",
    "    np.save('data_new_train_val_test/train_label_after_cross_'+str(i+1), flat_train_label_after)\n",
    "    np.save('data_new_train_val_test/train_id_before_cross_'+str(i+1), train_id_before)\n",
    "    np.save('data_new_train_val_test/train_id_after_cross_'+str(i+1), flat_train_id_after)\n",
    "    np.save('data_new_train_val_test/filename_train_'+str(i+1), filename_train)\n",
    "    \n",
    "    np.save('data_new_train_val_test/val_data_cross_'+str(i+1), val_data)\n",
    "    np.save('data_new_train_val_test/val_label_before_cross_'+str(i+1), val_label_before)\n",
    "    np.save('data_new_train_val_test/val_label_after_cross_'+str(i+1), flat_val_label_after)\n",
    "    np.save('data_new_train_val_test/val_id_before_cross_'+str(i+1), val_id_before)\n",
    "    np.save('data_new_train_val_test/val_id_after_cross_'+str(i+1), flat_val_id_after)\n",
    "    np.save('data_new_train_val_test/filename_val_'+str(i+1), filename_val)"
   ]
  },
  {
   "cell_type": "code",
   "execution_count": 17,
   "id": "ccfce219",
   "metadata": {},
   "outputs": [
    {
     "data": {
      "text/plain": [
       "{'ABSZ': 65,\n",
       " 'CPSZ': 218,\n",
       " 'FNSZ': 645,\n",
       " 'GNSZ': 266,\n",
       " 'SPSZ': 30,\n",
       " 'TCSZ': 31,\n",
       " 'TNSZ': 44}"
      ]
     },
     "execution_count": 17,
     "metadata": {},
     "output_type": "execute_result"
    }
   ],
   "source": [
    "# Check if the training and validation sets still keep the percentage of each category\n",
    "table = {'ABSZ':0,'CPSZ':0, 'FNSZ':0, 'GNSZ':0, 'SPSZ':0, 'TCSZ':0, 'TNSZ':0}\n",
    "for item in train_label_before:\n",
    "    table[item] += 1\n",
    "    \n",
    "table\n"
   ]
  },
  {
   "cell_type": "code",
   "execution_count": 24,
   "id": "a6a2c8dc",
   "metadata": {},
   "outputs": [],
   "source": [
    "test_data, test_id_before, test_id_after, test_label_before, test_label_after = [],[],[],[],[]\n",
    "samples_test = 0\n",
    "\n",
    "for j in range(len(test_all)): #read train data, train label and patient id from the pkl files.\n",
    "        path_test = source + test_all[j]  #location of the pkl files\n",
    "        sz = pickle.load(open(path_test, 'rb'))  #load the file\n",
    "        samples_test  +=  np.shape(sz.data)[0] #the number of EEG clips in each pkl files\n",
    "        test_id_before.append(sz.patient_id)   #original patient id\n",
    "        test_id_after.append([sz.patient_id]*np.shape(sz.data)[0])   #expended patient id according to the number of EEG clips in each pkl file\n",
    "        test_label_before.append(sz.seizure_type)   #original label\n",
    "        test_label_after.append([sz.seizure_type]*np.shape(sz.data)[0]) #expended training lables according to the number of EEG clips in each pkl file\n",
    "        test_data.append(sz.data)"
   ]
  },
  {
   "cell_type": "code",
   "execution_count": 25,
   "id": "d4497bd0",
   "metadata": {},
   "outputs": [
    {
     "data": {
      "text/plain": [
       "399"
      ]
     },
     "execution_count": 25,
     "metadata": {},
     "output_type": "execute_result"
    }
   ],
   "source": [
    "len(test_id_before)"
   ]
  },
  {
   "cell_type": "code",
   "execution_count": 26,
   "id": "93a95a19",
   "metadata": {},
   "outputs": [
    {
     "data": {
      "text/plain": [
       "119534"
      ]
     },
     "execution_count": 26,
     "metadata": {},
     "output_type": "execute_result"
    }
   ],
   "source": [
    "samples_test"
   ]
  },
  {
   "cell_type": "code",
   "execution_count": 41,
   "id": "aa0db3d7",
   "metadata": {},
   "outputs": [],
   "source": [
    "flat_test_id_after = [item for sublist in test_id_after for item in sublist]   #concatenate the expended patient id\n",
    "flat_test_label_after = [item for sublist in test_label_after for item in sublist] #concatenate the expended train label\n",
    "flat_test_data = [item for sublist in test_data for item in sublist]  #concatenate the training data\n",
    "test_data = np.reshape(flat_test_data,[samples_test,1,20,24])\n",
    "\n",
    "np.save('data_new_train_val_test/test_data', test_data)\n",
    "np.save('data_new_train_val_test/test_label_before', test_label_before)\n",
    "np.save('data_new_train_val_test/test_label_after', flat_test_label_after)\n",
    "np.save('data_new_train_val_test/test_id_before', test_id_before)\n",
    "np.save('data_new_train_val_test/test_id_afte', flat_test_id_after)\n",
    "np.save('data_new_train_val_test/filename_test', test_all)"
   ]
  },
  {
   "cell_type": "markdown",
   "id": "30320e69",
   "metadata": {},
   "source": [
    "# Process the data for majority voting"
   ]
  },
  {
   "cell_type": "code",
   "execution_count": 29,
   "id": "3cd59309",
   "metadata": {},
   "outputs": [
    {
     "name": "stdout",
     "output_type": "stream",
     "text": [
      "331 399\n",
      "316 399\n",
      "317 399\n",
      "335 399\n",
      "311 399\n"
     ]
    }
   ],
   "source": [
    "infile = open('cv_split_5_fold_seizure_wise_v1.4.0.pkl','rb') #use the data prepared for cross validation\n",
    "new_dict = pickle.load(infile)\n",
    "infile.close()\n",
    "\n",
    "source  = 'processed_2/v1.4.0/fft/fft_seizures_wl1_ws_0.25_sf_250_fft_min_1_fft_max_24/' #load the data from this folder\n",
    "\n",
    "for i in range(5):\n",
    "    accumulated_val = [0]\n",
    "    each_lenth_val = []\n",
    "    \n",
    "    val =  new_dict[str(i+1)]['val']      #read the validation data for the 5-fold cross validation\n",
    "    val = list(set(val) - set(test_all))\n",
    "    print(len(val), len(test_all))\n",
    "    \n",
    "    samples_val = 0\n",
    "            \n",
    "    for j in range(len(val)):  #read validation data, validation label and patient id from the pkl files.\n",
    "        path_val = source + val[j]\n",
    "        sz = pickle.load(open(path_val, 'rb'))\n",
    "        each_lenth_val.append(np.shape(sz.data)[0])\n",
    "        samples_val  +=  np.shape(sz.data)[0]\n",
    "        accumulated_val.append(samples_val)\n",
    "    \n",
    "    accumulated_val = accumulated_val[:-1]\n",
    "    np.save('data_new_train_val_test/accumulated_val_'+str(i+1), accumulated_val)\n",
    "    np.save('data_new_train_val_test/each_lenth_val_'+str(i+1), each_lenth_val)\n"
   ]
  },
  {
   "cell_type": "code",
   "execution_count": 30,
   "id": "44e0d36f",
   "metadata": {},
   "outputs": [],
   "source": [
    "samples_test = 0\n",
    "each_lenth_test, accumulated_test = [], [0]\n",
    "\n",
    "for j in range(len(test_all)):  #read validation data, validation label and patient id from the pkl files.\n",
    "    path_test = source + test_all[j]\n",
    "    sz = pickle.load(open(path_test, 'rb'))\n",
    "    each_lenth_test.append(np.shape(sz.data)[0])\n",
    "    samples_test  +=  np.shape(sz.data)[0]\n",
    "    accumulated_test.append(samples_test)\n",
    "\n",
    "accumulated_test = accumulated_test[:-1]\n",
    "np.save('data_new_train_val_test/accumulated_test', accumulated_test)\n",
    "np.save('data_new_train_val_test/each_lenth_test', each_lenth_test)"
   ]
  },
  {
   "cell_type": "code",
   "execution_count": 31,
   "id": "23556408",
   "metadata": {},
   "outputs": [
    {
     "data": {
      "text/plain": [
       "399"
      ]
     },
     "execution_count": 31,
     "metadata": {},
     "output_type": "execute_result"
    }
   ],
   "source": [
    "len(test_all)"
   ]
  },
  {
   "cell_type": "code",
   "execution_count": 32,
   "id": "12a80eff",
   "metadata": {},
   "outputs": [
    {
     "data": {
      "text/plain": [
       "399"
      ]
     },
     "execution_count": 32,
     "metadata": {},
     "output_type": "execute_result"
    }
   ],
   "source": [
    "len(accumulated_test)"
   ]
  },
  {
   "cell_type": "code",
   "execution_count": 33,
   "id": "33da8b1d",
   "metadata": {},
   "outputs": [
    {
     "data": {
      "text/plain": [
       "399"
      ]
     },
     "execution_count": 33,
     "metadata": {},
     "output_type": "execute_result"
    }
   ],
   "source": [
    "len(each_lenth_test)"
   ]
  },
  {
   "cell_type": "code",
   "execution_count": 34,
   "id": "30c7f0b9",
   "metadata": {},
   "outputs": [
    {
     "data": {
      "text/plain": [
       "True"
      ]
     },
     "execution_count": 34,
     "metadata": {},
     "output_type": "execute_result"
    }
   ],
   "source": [
    "np.sum(each_lenth_test) == accumulated_test[-1] + each_lenth_test[-1]"
   ]
  },
  {
   "cell_type": "code",
   "execution_count": 35,
   "id": "ce6093fd",
   "metadata": {},
   "outputs": [
    {
     "data": {
      "text/plain": [
       "119534"
      ]
     },
     "execution_count": 35,
     "metadata": {},
     "output_type": "execute_result"
    }
   ],
   "source": [
    "accumulated_test[-1] + each_lenth_test[-1]"
   ]
  },
  {
   "cell_type": "code",
   "execution_count": 36,
   "id": "5078fbe8",
   "metadata": {},
   "outputs": [
    {
     "data": {
      "text/plain": [
       "119534"
      ]
     },
     "execution_count": 36,
     "metadata": {},
     "output_type": "execute_result"
    }
   ],
   "source": [
    "np.sum(each_lenth_test)"
   ]
  },
  {
   "cell_type": "code",
   "execution_count": 37,
   "id": "fb7f42b8",
   "metadata": {},
   "outputs": [
    {
     "data": {
      "text/plain": [
       "True"
      ]
     },
     "execution_count": 37,
     "metadata": {},
     "output_type": "execute_result"
    }
   ],
   "source": [
    "np.sum(each_lenth_val) == accumulated_val[-1] + each_lenth_val[-1]"
   ]
  },
  {
   "cell_type": "code",
   "execution_count": 38,
   "id": "8ea6a25d",
   "metadata": {
    "collapsed": true
   },
   "outputs": [
    {
     "data": {
      "text/plain": [
       "['00006986',\n",
       " '00005347',\n",
       " '00004049',\n",
       " '00001052',\n",
       " '00006139',\n",
       " '00004087',\n",
       " '00008029',\n",
       " '00003884',\n",
       " '00004456',\n",
       " '00007092',\n",
       " '00003401',\n",
       " '00010421',\n",
       " '00000820',\n",
       " '00004151',\n",
       " '00009232',\n",
       " '00001479',\n",
       " '00005044',\n",
       " '00000975',\n",
       " '00005512',\n",
       " '00002427',\n",
       " '00002521',\n",
       " '00008615',\n",
       " '00002445',\n",
       " '00005625',\n",
       " '00007095',\n",
       " '00000574',\n",
       " '00003053',\n",
       " '00010861',\n",
       " '00009158',\n",
       " '00001753',\n",
       " '00000006',\n",
       " '00004523',\n",
       " '00006811',\n",
       " '00008480',\n",
       " '00000906',\n",
       " '00001795',\n",
       " '00009050',\n",
       " '00010547',\n",
       " '00004596',\n",
       " '00005346',\n",
       " '00009104',\n",
       " '00008552',\n",
       " '00006103',\n",
       " '00001548',\n",
       " '00008092',\n",
       " '00007797',\n",
       " '00007130',\n",
       " '00006535',\n",
       " '00002707',\n",
       " '00007170',\n",
       " '00000775']"
      ]
     },
     "execution_count": 38,
     "metadata": {},
     "output_type": "execute_result"
    }
   ],
   "source": [
    "list(set(train_id_before).difference(set(test_id_before)))"
   ]
  },
  {
   "cell_type": "code",
   "execution_count": null,
   "id": "acf1ee4f",
   "metadata": {},
   "outputs": [],
   "source": []
  }
 ],
 "metadata": {
  "kernelspec": {
   "display_name": "Python 3",
   "language": "python",
   "name": "python3"
  },
  "language_info": {
   "codemirror_mode": {
    "name": "ipython",
    "version": 3
   },
   "file_extension": ".py",
   "mimetype": "text/x-python",
   "name": "python",
   "nbconvert_exporter": "python",
   "pygments_lexer": "ipython3",
   "version": "3.9.4"
  }
 },
 "nbformat": 4,
 "nbformat_minor": 5
}
